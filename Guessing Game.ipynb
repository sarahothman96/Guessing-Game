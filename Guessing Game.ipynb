{
 "cells": [
  {
   "cell_type": "markdown",
   "metadata": {},
   "source": [
    "## Guess A Number Game"
   ]
  },
  {
   "cell_type": "markdown",
   "metadata": {},
   "source": [
    "#### The computer will generate random number. We need to guess/predict the number"
   ]
  },
  {
   "cell_type": "code",
   "execution_count": 8,
   "metadata": {},
   "outputs": [
    {
     "name": "stdout",
     "output_type": "stream",
     "text": [
      "Hello! What's your name?\n",
      "Sarah\n",
      "Welcome Sarah I am thinking of a number between 1 to 15. Please wait...\n",
      "Take a guess: \n",
      "5\n",
      "Your guess is too HIGH...\n",
      "Take a guess: \n",
      "3\n",
      "Your guess is too HIGH...\n",
      "Take a guess: \n",
      "1\n",
      "Congratulation Sarah You Guesses The Number In 3 attempt(s)\n"
     ]
    }
   ],
   "source": [
    "import random\n",
    "guessAttempts = 0\n",
    "print(\"Hello! What's your name?\")\n",
    "myname = input()\n",
    "number = random.randint(1,15)\n",
    "print(\"Welcome\",myname,\"I am thinking of a number between 1 to 15. Please wait...\")\n",
    "\n",
    "\n",
    "# Use While Loop --> when iteration is not fix\n",
    "while guessAttempts < 4:\n",
    "    print(\"Take a guess: \")\n",
    "    guess = input()\n",
    "    guess = int(guess)\n",
    "    \n",
    "    guessAttempts += 1\n",
    "    \n",
    "    if guess > number:\n",
    "        print(\"Your guess is too HIGH...\")\n",
    "    elif guess < number:\n",
    "        print(\"Your guess is too LOW...\")\n",
    "    elif guess == number:\n",
    "        break\n",
    "\n",
    "if guess == number:\n",
    "    print(\"Congratulation\",myname,\".You Guesses The Number In\",guessAttempts,\"attempt(s)\")\n",
    "elif guess != number:\n",
    "    print(\"Game Over! The number I was thinking is: \",number)\n",
    "    "
   ]
  }
 ],
 "metadata": {
  "kernelspec": {
   "display_name": "Python 3",
   "language": "python",
   "name": "python3"
  },
  "language_info": {
   "codemirror_mode": {
    "name": "ipython",
    "version": 3
   },
   "file_extension": ".py",
   "mimetype": "text/x-python",
   "name": "python",
   "nbconvert_exporter": "python",
   "pygments_lexer": "ipython3",
   "version": "3.8.3"
  }
 },
 "nbformat": 4,
 "nbformat_minor": 4
}
